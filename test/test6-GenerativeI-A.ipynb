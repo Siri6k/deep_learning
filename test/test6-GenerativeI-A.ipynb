{
 "cells": [
  {
   "cell_type": "markdown",
   "id": "41ffea3e",
   "metadata": {},
   "source": [
    "Generative AI"
   ]
  },
  {
   "cell_type": "code",
   "execution_count": 2,
   "id": "b4c741ab-f1e5-4922-a5d9-ce064d4728de",
   "metadata": {},
   "outputs": [],
   "source": [
    "import os\n",
    "token = os.getenv(\"HF_TOKEN\")  # export HF_TOKEN=hf_xxx dans votre terminal"
   ]
  },
  {
   "cell_type": "code",
   "execution_count": 5,
   "id": "12d990de-3243-4bbd-8be3-cdbe0d5e6281",
   "metadata": {},
   "outputs": [],
   "source": [
    "from huggingface_hub import InferenceClient\n",
    "\n",
    "# Remplacez par votre propre token\n",
    "client = InferenceClient(\n",
    "    model=\"EleutherAI/gpt-j-6B\", \n",
    "    token=token\n",
    ")"
   ]
  },
  {
   "cell_type": "code",
   "execution_count": 5,
   "id": "1426472f-e447-433a-b0cc-46c504dd904a",
   "metadata": {},
   "outputs": [
    {
     "name": "stderr",
     "output_type": "stream",
     "text": [
      "Device set to use cpu\n"
     ]
    }
   ],
   "source": [
    "from transformers import pipeline, set_seed\n",
    "\n",
    "# Générateur avec modèle francophone (ou multilingue)\n",
    "generator = pipeline(\"text-generation\", model=\"dbddv01/gpt2-french-small\", device_map=\"auto\")\n"
   ]
  },
  {
   "cell_type": "code",
   "execution_count": 6,
   "id": "3495b832-3aa8-4c13-9761-853fc78ee34c",
   "metadata": {},
   "outputs": [
    {
     "name": "stdout",
     "output_type": "stream",
     "text": [
      "=== Texte généré ===\n",
      "J’ai adoré ce livre, car il m’a eu une influence considérable sur moi. Ils étaient très importants en matière d’éducation, politique, sociale et économique. Ils étaient importants dans les domaines de la famille et de la politique ; ils ont créé une forme d’opinion qui a largement contribué à l’évolution d’individu. Nous n’en 1991, ni la famille, ni la famille ne nous nous sommes d’accord. » Le livre est réédité par la suite en CD, disque et disque Blu-ray en\n"
     ]
    }
   ],
   "source": [
    "# Définir le prompt en français\n",
    "prompt = \"J’ai adoré ce livre, car\"\n",
    "\n",
    "# Définir les paramètres\n",
    "set_seed(42)\n",
    "generation = generator(prompt, max_new_tokens=100, temperature=0.9, top_k=50, num_return_sequences=1)\n",
    "\n",
    "generated_text = generation[0][\"generated_text\"]\n",
    "print(\"=== Texte généré ===\")\n",
    "print(generated_text)"
   ]
  },
  {
   "cell_type": "code",
   "execution_count": 7,
   "id": "ad9874c6-1dbc-4016-bc2b-fd6fe9189d50",
   "metadata": {},
   "outputs": [
    {
     "name": "stderr",
     "output_type": "stream",
     "text": [
      "Device set to use cpu\n"
     ]
    }
   ],
   "source": [
    "# Pipeline de résumé (modèle multilingue)\n",
    "summarizer = pipeline(\"summarization\", model=\"facebook/mbart-large-cc25\")\n"
   ]
  },
  {
   "cell_type": "code",
   "execution_count": 8,
   "id": "87f28e27-c44e-4038-a6c2-fa7e4f8287a2",
   "metadata": {},
   "outputs": [
    {
     "name": "stdout",
     "output_type": "stream",
     "text": [
      "\n",
      "=== Résumé ===\n",
      "la suite en CD, disque et disque Blu-ray en\n"
     ]
    }
   ],
   "source": [
    "summary = summarizer(generated_text, max_length=60, min_length=15, do_sample=False)\n",
    "\n",
    "print(\"\\n=== Résumé ===\")\n",
    "print(summary[0][\"summary_text\"])\n"
   ]
  },
  {
   "cell_type": "code",
   "execution_count": null,
   "id": "c405d226-a091-435d-a205-660ef60ee634",
   "metadata": {},
   "outputs": [],
   "source": []
  }
 ],
 "metadata": {
  "kernelspec": {
   "display_name": "Python 3 (ipykernel)",
   "language": "python",
   "name": "python3"
  },
  "language_info": {
   "codemirror_mode": {
    "name": "ipython",
    "version": 3
   },
   "file_extension": ".py",
   "mimetype": "text/x-python",
   "name": "python",
   "nbconvert_exporter": "python",
   "pygments_lexer": "ipython3",
   "version": "3.12.5"
  }
 },
 "nbformat": 4,
 "nbformat_minor": 5
}
